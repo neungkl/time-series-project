{
 "cells": [
  {
   "cell_type": "code",
   "execution_count": 1,
   "metadata": {},
   "outputs": [],
   "source": [
    "import os\n",
    "import numpy as np\n",
    "import matplotlib\n",
    "import matplotlib.pyplot as plt\n",
    "import time\n",
    "\n",
    "%matplotlib inline  \n",
    "\n",
    "cwd = os.getcwd()"
   ]
  },
  {
   "cell_type": "code",
   "execution_count": 2,
   "metadata": {},
   "outputs": [],
   "source": [
    "def read_data(file_dir):\n",
    "    f = open(file_dir, \"r\")\n",
    "\n",
    "    x_label = []\n",
    "    x_feature = []\n",
    "\n",
    "    for i, line in enumerate(f):\n",
    "        line = line.strip().split(\" \")\n",
    "        line = list(filter(lambda x: len(x) > 0, line))\n",
    "\n",
    "        x_label.append(float(line[0]))\n",
    "        x_feature.append(line[1:])\n",
    "\n",
    "    x_label = np.array(x_label, np.int32)\n",
    "    x_feature = np.array(x_feature, np.float)\n",
    "    \n",
    "    return x_label, x_feature"
   ]
  },
  {
   "cell_type": "code",
   "execution_count": 3,
   "metadata": {},
   "outputs": [],
   "source": [
    "x_label, x_feature = read_data(\"../data/50words_TRAIN\")\n",
    "y_label, y_feature = read_data(\"../data/50words_TEST\")"
   ]
  },
  {
   "cell_type": "code",
   "execution_count": 6,
   "metadata": {},
   "outputs": [
    {
     "data": {
      "text/plain": [
       "455"
      ]
     },
     "execution_count": 6,
     "metadata": {},
     "output_type": "execute_result"
    }
   ],
   "source": [
    "len(y_label)"
   ]
  },
  {
   "cell_type": "code",
   "execution_count": 8,
   "metadata": {},
   "outputs": [
    {
     "data": {
      "text/plain": [
       "0.06809734232628505"
      ]
     },
     "execution_count": 8,
     "metadata": {},
     "output_type": "execute_result"
    }
   ],
   "source": [
    "def dtw(x, y, w1, w2, w3):\n",
    "    x_len = x.shape[0]\n",
    "    y_len = y.shape[0]\n",
    "    \n",
    "    x = x.reshape(1, x_len)\n",
    "    y = y.reshape(y_len, 1)\n",
    "    \n",
    "    dist = np.abs((x - y) ** 2).astype(np.float64)\n",
    "    dp = np.ones_like(dist, dtype=np.float64) * 9999999\n",
    "    \n",
    "    dp[0][0] = dist[0][0]\n",
    "    \n",
    "    for i in np.arange(x_len * y_len):\n",
    "        i_x = i // y_len\n",
    "        i_y = i % y_len\n",
    "        \n",
    "        if i_x > 0:\n",
    "            dp[i_y][i_x] = np.minimum(dp[i_y][i_x], dp[i_y][i_x - 1] + w1 * dist[i_y][i_x])\n",
    "        if i_y > 0:\n",
    "            dp[i_y][i_x] = np.minimum(dp[i_y][i_x], dp[i_y - 1][i_x] + w3 * dist[i_y][i_x])\n",
    "        if i_x > 0 and i_y > 0:\n",
    "            dp[i_y][i_x] = np.minimum(dp[i_y][i_x], dp[i_y - 1][i_x - 1] + w2 * dist[i_y][i_x])\n",
    "           \n",
    "    return dp[y_len - 1][x_len - 1]\n",
    "\n",
    "dtw(x_feature[0][0:5], y_feature[0][0:3], 1.0, 2.0, 1.0)"
   ]
  },
  {
   "cell_type": "code",
   "execution_count": 10,
   "metadata": {},
   "outputs": [],
   "source": [
    "def dtw_find_class(y):\n",
    "    best_class = -1\n",
    "    best_dist = 9999999\n",
    "    \n",
    "    start_t = time.time()\n",
    "    \n",
    "    for i, x in enumerate(x_feature):\n",
    "        dist = dtw(x, y, 1.0, 2.0, 1.0)\n",
    "        \n",
    "        if i == 10:\n",
    "            print(time.time() - start_t)\n",
    "        \n",
    "        if dist < best_dist:\n",
    "            best_dist = dist\n",
    "            best_class = x_label[i]\n",
    "            \n",
    "    return best_class\n",
    "        \n",
    "\n",
    "# print(dtw_find_class(y_feature[0]))"
   ]
  },
  {
   "cell_type": "code",
   "execution_count": 63,
   "metadata": {},
   "outputs": [
    {
     "name": "stdout",
     "output_type": "stream",
     "text": [
      "4\n"
     ]
    }
   ],
   "source": [
    "print(y_label[0])"
   ]
  },
  {
   "cell_type": "code",
   "execution_count": null,
   "metadata": {},
   "outputs": [],
   "source": []
  }
 ],
 "metadata": {
  "kernelspec": {
   "display_name": "Python 3",
   "language": "python",
   "name": "python3"
  },
  "language_info": {
   "codemirror_mode": {
    "name": "ipython",
    "version": 3
   },
   "file_extension": ".py",
   "mimetype": "text/x-python",
   "name": "python",
   "nbconvert_exporter": "python",
   "pygments_lexer": "ipython3",
   "version": "3.5.2"
  }
 },
 "nbformat": 4,
 "nbformat_minor": 2
}
