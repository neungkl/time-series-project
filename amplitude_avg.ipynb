{
 "cells": [
  {
   "cell_type": "code",
   "execution_count": 1,
   "metadata": {},
   "outputs": [],
   "source": [
    "import numpy as np"
   ]
  },
  {
   "cell_type": "code",
   "execution_count": 40,
   "metadata": {},
   "outputs": [],
   "source": [
    "train_data = open('data/50words_TRAIN', 'r')\n",
    "test_data = open('data/50words_TEST', 'r')"
   ]
  },
  {
   "cell_type": "code",
   "execution_count": 101,
   "metadata": {},
   "outputs": [],
   "source": [
    "train_data = open('data/50words_TRAIN', 'r')\n",
    "test_data = open('data/50words_TEST', 'r')\n",
    "\n",
    "train_x = list()\n",
    "train_label = list()\n",
    "\n",
    "for i, line in enumerate(train_data): \n",
    "    array = line.split()\n",
    "#     label = int(float(array[0]))\n",
    "    train_label.append(int(float(array[0])))\n",
    "    train_x.append(np.array(array[1:]).astype(float))\n",
    "\n",
    "train_label = np.array(train_label).reshape((len(train_label)))\n",
    "train_x = np.array(train_x).reshape((len(train_x), train_x[0].shape[0]))\n",
    "\n",
    "classes = np.unique(train_label)"
   ]
  },
  {
   "cell_type": "code",
   "execution_count": 113,
   "metadata": {},
   "outputs": [],
   "source": [
    "class_x = [list() for i in classes]\n",
    "for i in range(train_label.shape[0]):\n",
    "    class_x[train_label[i]-1].append(np.array(train_x[i]))\n",
    "class_x = np.array(class_x)"
   ]
  },
  {
   "cell_type": "code",
   "execution_count": 119,
   "metadata": {},
   "outputs": [],
   "source": [
    "class_avg = [list() for i in classes]\n",
    "for c in range(len(classes)):\n",
    "    class_avg[c] = np.array(class_x[c]).mean(axis=0)\n",
    "class_avg = np.array(class_avg)"
   ]
  },
  {
   "cell_type": "code",
   "execution_count": 120,
   "metadata": {},
   "outputs": [
    {
     "data": {
      "text/plain": [
       "(50, 270)"
      ]
     },
     "execution_count": 120,
     "metadata": {},
     "output_type": "execute_result"
    }
   ],
   "source": [
    "class_avg.shape"
   ]
  }
 ],
 "metadata": {
  "kernelspec": {
   "display_name": "Python 3",
   "language": "python",
   "name": "python3"
  },
  "language_info": {
   "codemirror_mode": {
    "name": "ipython",
    "version": 3
   },
   "file_extension": ".py",
   "mimetype": "text/x-python",
   "name": "python",
   "nbconvert_exporter": "python",
   "pygments_lexer": "ipython3",
   "version": "3.5.2"
  }
 },
 "nbformat": 4,
 "nbformat_minor": 2
}
