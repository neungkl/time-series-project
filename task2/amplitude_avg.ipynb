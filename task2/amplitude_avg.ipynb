{
 "cells": [
  {
   "cell_type": "code",
   "execution_count": 170,
   "metadata": {},
   "outputs": [],
   "source": [
    "import numpy as np\n",
    "import matplotlib\n",
    "import matplotlib.pyplot as plt\n",
    "\n",
    "%matplotlib inline"
   ]
  },
  {
   "cell_type": "code",
   "execution_count": 171,
   "metadata": {},
   "outputs": [],
   "source": [
    "def get_class_x(train_file_name):\n",
    "    train_data = open('./data/' + train_file_name, 'r')\n",
    "    train_x = list()\n",
    "    train_label = list()\n",
    "    \n",
    "    # Read data\n",
    "    for i, line in enumerate(train_data): \n",
    "        array = line.split()\n",
    "        train_label.append(int(float(array[0])))\n",
    "        train_x.append(np.array(array[1:]).astype(float))\n",
    "\n",
    "    train_label = np.array(train_label).reshape((len(train_label)))\n",
    "    train_x = np.array(train_x).reshape((len(train_x), train_x[0].shape[0]))\n",
    "\n",
    "    # Collect data in class\n",
    "    classes = np.unique(train_label)\n",
    "    class_x = [list() for i in classes]\n",
    "    for i in range(train_label.shape[0]):\n",
    "        class_x[train_label[i]-1].append(np.array(train_x[i]))\n",
    "    class_x = np.array(class_x)\n",
    "    return class_x"
   ]
  },
  {
   "cell_type": "code",
   "execution_count": 172,
   "metadata": {},
   "outputs": [],
   "source": [
    "class_x = get_class_x('50words_TRAIN')\n",
    "class_avg = [list() for i in range(len(class_x))]\n",
    "for c in range(len(class_x)):\n",
    "    class_avg[c] = np.array(class_x[c]).mean(axis=0)\n",
    "class_avg = np.array(class_avg)"
   ]
  },
  {
   "cell_type": "code",
   "execution_count": 173,
   "metadata": {},
   "outputs": [
    {
     "data": {
      "text/plain": [
       "[<matplotlib.lines.Line2D at 0x7f84dc18dbe0>]"
      ]
     },
     "execution_count": 173,
     "metadata": {},
     "output_type": "execute_result"
    },
    {
     "data": {
      "image/png": "[encoded data removed]",
      "text/plain": [
       "<matplotlib.figure.Figure at 0x7f84dc1e6160>"
      ]
     },
     "metadata": {},
     "output_type": "display_data"
    }
   ],
   "source": [
    "plt.plot(class_avg[8])"
   ]
  },
  {
   "cell_type": "code",
   "execution_count": null,
   "metadata": {},
   "outputs": [],
   "source": []
  }
 ],
 "metadata": {
  "kernelspec": {
   "display_name": "Python 3",
   "language": "python",
   "name": "python3"
  },
  "language_info": {
   "codemirror_mode": {
    "name": "ipython",
    "version": 3
   },
   "file_extension": ".py",
   "mimetype": "text/x-python",
   "name": "python",
   "nbconvert_exporter": "python",
   "pygments_lexer": "ipython3",
   "version": "3.5.2"
  }
 },
 "nbformat": 4,
 "nbformat_minor": 2
}
