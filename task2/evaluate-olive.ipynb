{
 "cells": [
  {
   "cell_type": "code",
   "execution_count": 24,
   "metadata": {},
   "outputs": [],
   "source": [
    "import os\n",
    "import numpy as np\n",
    "import matplotlib\n",
    "import matplotlib.pyplot as plt\n",
    "from tslearn.metrics import dtw, soft_dtw\n",
    "from sklearn.metrics import accuracy_score\n",
    "from scipy.spatial import distance as dist\n",
    "\n",
    "from reader import get_x_label, get_class_x\n",
    "from average import amplitude_avg, dtw_avg, soft_dtw_avg"
   ]
  },
  {
   "cell_type": "code",
   "execution_count": 25,
   "metadata": {},
   "outputs": [],
   "source": [
    "file_list = ['yoga']\n",
    "file_list.sort()"
   ]
  },
  {
   "cell_type": "code",
   "execution_count": 26,
   "metadata": {},
   "outputs": [],
   "source": [
    "def predict_class(test_x, class_avg):\n",
    "    predict = []\n",
    "    for i in range(test_x.shape[0]): \n",
    "        min_distance = 10000000\n",
    "        nearest_class = -1\n",
    "        for j in range(class_avg.shape[0]):\n",
    "#             distance = dist.euclidean(test_x[i], class_avg[j])\n",
    "            distance = dtw(test_x[i], class_avg[j])\n",
    "#             distance = soft_dtw(test_x[i], class_avg[j])\n",
    "            if distance < min_distance:\n",
    "                min_distance = distance\n",
    "                nearest_class = j\n",
    "        predict.append(nearest_class)\n",
    "    return predict"
   ]
  },
  {
   "cell_type": "code",
   "execution_count": null,
   "metadata": {},
   "outputs": [],
   "source": [
    "accuracies = []\n",
    "for file_name in file_list:\n",
    "    class_x = get_class_x(file_name + '_TRAIN')\n",
    "#     class_avg = amplitude_avg(class_x)\n",
    "    class_avg = dtw_avg(class_x)\n",
    "#     class_avg = soft_dtw_avg(class_x)\n",
    "    test_x, test_label = get_x_label(file_name + '_TEST')\n",
    "    predict = predict_class(test_x, class_avg)\n",
    "    accuracy = accuracy_score(test_label-1, predict)\n",
    "    print(accuracy)\n",
    "    accuracies.append(accuracy)"
   ]
  },
  {
   "cell_type": "code",
   "execution_count": null,
   "metadata": {},
   "outputs": [],
   "source": [
    "test_label"
   ]
  },
  {
   "cell_type": "code",
   "execution_count": null,
   "metadata": {},
   "outputs": [],
   "source": [
    "predict"
   ]
  },
  {
   "cell_type": "code",
   "execution_count": null,
   "metadata": {},
   "outputs": [],
   "source": []
  }
 ],
 "metadata": {
  "kernelspec": {
   "display_name": "Python 3",
   "language": "python",
   "name": "python3"
  },
  "language_info": {
   "codemirror_mode": {
    "name": "ipython",
    "version": 3
   },
   "file_extension": ".py",
   "mimetype": "text/x-python",
   "name": "python",
   "nbconvert_exporter": "python",
   "pygments_lexer": "ipython3",
   "version": "3.6.2"
  }
 },
 "nbformat": 4,
 "nbformat_minor": 2
}
