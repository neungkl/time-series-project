{
 "cells": [
  {
   "cell_type": "code",
   "execution_count": 4,
   "metadata": {},
   "outputs": [],
   "source": [
    "import os\n",
    "import numpy as np\n",
    "import matplotlib\n",
    "import matplotlib.pyplot as plt\n",
    "from tslearn.metrics import dtw, soft_dtw, dtw_path\n",
    "from sklearn.metrics import accuracy_score\n",
    "from scipy.spatial import distance as dist\n",
    "from scipy.stats import norm\n",
    "\n",
    "from reader import get_x_label, get_class_x\n",
    "from average import amplitude_avg, dtw_avg, soft_dtw_avg"
   ]
  },
  {
   "cell_type": "code",
   "execution_count": 14,
   "metadata": {},
   "outputs": [],
   "source": [
    "file_name = 'Coffee'"
   ]
  },
  {
   "cell_type": "code",
   "execution_count": 15,
   "metadata": {},
   "outputs": [],
   "source": [
    "class_x = get_class_x(file_name + '_TRAIN')\n",
    "class_avg = dtw_avg(class_x)"
   ]
  },
  {
   "cell_type": "code",
   "execution_count": 16,
   "metadata": {},
   "outputs": [],
   "source": [
    "dtw_stat = [[list() for i in range(len(class_x[0][0]))] for _ in range(len(class_x))]\n",
    "for i in range(class_x.shape[0]):\n",
    "    for j in range(len(class_x[i])):\n",
    "        path, dist = dtw_path(class_avg[i], class_x[i][j])\n",
    "        for avg_pos, x_pos in path:\n",
    "            dtw_stat[i][avg_pos].append(class_x[i][j][x_pos])\n",
    "dtw_stat = np.array(dtw_stat)\n",
    "for i in range(dtw_stat.shape[0]):\n",
    "    for j in range(dtw_stat.shape[1]):\n",
    "        dtw_stat[i] = np.array(dtw_stat[i])"
   ]
  },
  {
   "cell_type": "code",
   "execution_count": 17,
   "metadata": {},
   "outputs": [],
   "source": [
    "dtw_mean = [[list() for i in range(dtw_stat.shape[1])] for _ in range(dtw_stat.shape[0])]\n",
    "dtw_sd = [[list() for i in range(dtw_stat.shape[1])] for _ in range(dtw_stat.shape[0])]\n",
    "for class_label in range(dtw_stat.shape[0]):\n",
    "    for point in range(dtw_stat.shape[1]):\n",
    "        stat = np.array(dtw_stat[class_label][point])\n",
    "        dtw_mean[class_label][point].append(stat.mean())\n",
    "        dtw_sd[class_label][point].append(stat.std())"
   ]
  },
  {
   "cell_type": "code",
   "execution_count": 18,
   "metadata": {},
   "outputs": [],
   "source": [
    "test_x, test_label = get_x_label(file_name + '_TEST')"
   ]
  },
  {
   "cell_type": "code",
   "execution_count": 19,
   "metadata": {},
   "outputs": [
    {
     "name": "stdout",
     "output_type": "stream",
     "text": [
      "0 : -1 1 -1\n",
      "1 : 1 1 -1\n",
      "2 : 1 1 -1\n",
      "3 : 1 1 -1\n",
      "4 : 1 1 -1\n",
      "5 : 1 1 -1\n",
      "6 : 1 1 -1\n",
      "7 : 1 1 -1\n",
      "8 : 0 1 -1\n",
      "9 : 0 0 -1\n",
      "10 : -1 0 -1\n",
      "11 : 0 0 -1\n",
      "12 : 1 1 -1\n",
      "13 : 1 0 -1\n",
      "14 : 1 1 -1\n",
      "15 : 0 0 0\n",
      "16 : 1 1 0\n",
      "17 : 0 0 0\n",
      "18 : 1 1 0\n",
      "19 : 0 0 0\n",
      "20 : 0 0 0\n",
      "21 : 1 1 0\n",
      "22 : 1 0 0\n",
      "23 : 0 0 0\n",
      "24 : 1 0 0\n",
      "25 : 0 0 0\n",
      "26 : 0 0 0\n",
      "27 : 0 0 0\n"
     ]
    }
   ],
   "source": [
    "bay_predict = []\n",
    "dist_predict = []\n",
    "count = 0\n",
    "for x in test_x:\n",
    "    min_log_prob = 0\n",
    "    min_dist = 100000\n",
    "    bay_nearest_class = -1\n",
    "    dist_nearest_class = -1\n",
    "    for j in range(len(class_avg)):\n",
    "        # Class j\n",
    "        path, dist = dtw_path(x, class_avg[j])\n",
    "        log_prob = 1\n",
    "        probs = [list() for _ in range(len(x))]\n",
    "        for x_pos, avg_pos in path:\n",
    "            # prob = norm(dtw_mean[j], dtw_sd[j]).pdf(class_avg[j][avg_pos][0])\n",
    "            # prob = norm(dtw_mean[j][avg_pos][0], dtw_sd[j][avg_pos][0]).pdf(x[x_pos])\n",
    "            prob = norm(dtw_mean[j][avg_pos][0], dtw_sd[j][avg_pos][0]).pdf(x[x_pos])\n",
    "            if prob < 10**(-310):\n",
    "                prob = 10**(-310)\n",
    "            probs[x_pos].append(prob)\n",
    "        for pos_probs in probs:\n",
    "#             print(len(pos_probs))\n",
    "            max_pos_prob = min(pos_probs)\n",
    "            #print(max_pos_prob)\n",
    "            log_prob *= max_pos_prob\n",
    "#         print(log_prob)\n",
    "        if log_prob > min_log_prob:\n",
    "            min_log_prob = log_prob\n",
    "            bay_nearest_class = j\n",
    "        if dist < min_dist:\n",
    "            min_dist = dist\n",
    "            dist_nearest_class = j\n",
    "    bay_predict.append(bay_nearest_class)\n",
    "    dist_predict.append(dist_nearest_class)\n",
    "    print(count, ':', bay_nearest_class, dist_nearest_class, test_label[count]-1)\n",
    "    count += 1"
   ]
  },
  {
   "cell_type": "code",
   "execution_count": 20,
   "metadata": {},
   "outputs": [
    {
     "data": {
      "text/plain": [
       "0.2857142857142857"
      ]
     },
     "execution_count": 20,
     "metadata": {},
     "output_type": "execute_result"
    }
   ],
   "source": [
    "accuracy_score(test_label, bay_predict)"
   ]
  },
  {
   "cell_type": "code",
   "execution_count": null,
   "metadata": {},
   "outputs": [],
   "source": []
  }
 ],
 "metadata": {
  "kernelspec": {
   "display_name": "Python 3",
   "language": "python",
   "name": "python3"
  },
  "language_info": {
   "codemirror_mode": {
    "name": "ipython",
    "version": 3
   },
   "file_extension": ".py",
   "mimetype": "text/x-python",
   "name": "python",
   "nbconvert_exporter": "python",
   "pygments_lexer": "ipython3",
   "version": "3.6.2"
  }
 },
 "nbformat": 4,
 "nbformat_minor": 2
}
